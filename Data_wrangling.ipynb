{
 "cells": [
  {
   "cell_type": "code",
   "execution_count": 11,
   "metadata": {},
   "outputs": [],
   "source": [
    "import pandas as pd\n",
    "import numpy as np \n",
    "\n",
    "data = pd.read_excel('./Online Retail.xlsx',)"
   ]
  },
  {
   "attachments": {},
   "cell_type": "markdown",
   "metadata": {},
   "source": [
    "# Replacing data of unnecessary desc"
   ]
  },
  {
   "cell_type": "code",
   "execution_count": 91,
   "metadata": {},
   "outputs": [],
   "source": [
    "replace_data = pd.read_csv('./replace1.csv')\n"
   ]
  },
  {
   "cell_type": "code",
   "execution_count": 18,
   "metadata": {},
   "outputs": [],
   "source": [
    "data['bill_amount'] = data.UnitPrice * data.Quantity"
   ]
  },
  {
   "attachments": {},
   "cell_type": "markdown",
   "metadata": {},
   "source": [
    "## Removing blank, mistakes or outlier "
   ]
  },
  {
   "cell_type": "code",
   "execution_count": 19,
   "metadata": {},
   "outputs": [
    {
     "data": {
      "text/plain": [
       "((10624, 9), (2517, 9), (135080, 9))"
      ]
     },
     "execution_count": 19,
     "metadata": {},
     "output_type": "execute_result"
    }
   ],
   "source": [
    "data[data.Quantity <0].shape,data[data.UnitPrice<=0].shape, data[data.CustomerID.isnull()].shape"
   ]
  },
  {
   "cell_type": "code",
   "execution_count": 20,
   "metadata": {},
   "outputs": [],
   "source": [
    "data = data[~((data.Quantity <0)  |(data.UnitPrice<=0) | (data.CustomerID.isnull()))]"
   ]
  },
  {
   "cell_type": "code",
   "execution_count": 29,
   "metadata": {},
   "outputs": [],
   "source": [
    "d = [\"Bank Charges\",\n",
    "\"CARRIAGE\",\n",
    "\"DOTCOM POSTAGE\",\n",
    "\"Manual\",\n",
    "\"PADS TO MATCH ALL CUSHIONS\",\n",
    "\"POSTAGE\"]\n",
    "\n",
    "d = [i.lower() for i in d]\n",
    "data['Description'] = data['Description'].str.lower()\n",
    "data = data[data['Description'].str.contains('|'.join(d))==False]\n",
    "data.StockCode = data.StockCode.astype(str).str.strip()\n",
    "for rep_d in replace_data.iterrows():\n",
    "   data.loc[data.StockCode == rep_d[1]['id'],'Description'] = rep_d[1]['desc'].lower()"
   ]
  },
  {
   "cell_type": "code",
   "execution_count": 37,
   "metadata": {},
   "outputs": [],
   "source": [
    "replace_data2 = pd.read_csv('./replace2.csv')\n",
    "for rep_d in replace_data2.iterrows():\n",
    "   data.loc[data.Description.str.strip() == rep_d[1]['desc'].lower().strip()\n",
    "            ,'StockCode'] = rep_d[1]['id']"
   ]
  },
  {
   "attachments": {},
   "cell_type": "markdown",
   "metadata": {},
   "source": [
    "### Summarizing the data based on Customer for better clustering"
   ]
  },
  {
   "cell_type": "code",
   "execution_count": 50,
   "metadata": {},
   "outputs": [],
   "source": [
    "data_g = data.groupby(['CustomerID']).agg(no_bills=('InvoiceNo', pd.Series.nunique), \n",
    "                                 sum_bill=('bill_amount', np.sum),\n",
    "                                 no_item = ('InvoiceNo', 'count'),\n",
    "                                Recency=('InvoiceDate', max),\n",
    "                                 Recency_min=('InvoiceDate', min)).reset_index()"
   ]
  },
  {
   "cell_type": "code",
   "execution_count": 52,
   "metadata": {},
   "outputs": [],
   "source": [
    "data_g['no_item_per_bill'] = data_g.no_item/data_g.no_bills"
   ]
  },
  {
   "attachments": {},
   "cell_type": "markdown",
   "metadata": {},
   "source": [
    "### Removing Outlier based on number of trips/bills"
   ]
  },
  {
   "cell_type": "code",
   "execution_count": 63,
   "metadata": {},
   "outputs": [
    {
     "data": {
      "text/html": [
       "<div>\n",
       "<style scoped>\n",
       "    .dataframe tbody tr th:only-of-type {\n",
       "        vertical-align: middle;\n",
       "    }\n",
       "\n",
       "    .dataframe tbody tr th {\n",
       "        vertical-align: top;\n",
       "    }\n",
       "\n",
       "    .dataframe thead th {\n",
       "        text-align: right;\n",
       "    }\n",
       "</style>\n",
       "<table border=\"1\" class=\"dataframe\">\n",
       "  <thead>\n",
       "    <tr style=\"text-align: right;\">\n",
       "      <th></th>\n",
       "      <th>CustomerID</th>\n",
       "      <th>no_bills</th>\n",
       "      <th>sum_bill</th>\n",
       "      <th>no_item</th>\n",
       "      <th>Recency</th>\n",
       "      <th>Recency_min</th>\n",
       "      <th>no_item_per_bill</th>\n",
       "    </tr>\n",
       "  </thead>\n",
       "  <tbody>\n",
       "    <tr>\n",
       "      <th>0</th>\n",
       "      <td>12346.0</td>\n",
       "      <td>1</td>\n",
       "      <td>77183.60</td>\n",
       "      <td>1</td>\n",
       "      <td>2011-01-18 10:01:00</td>\n",
       "      <td>2011-01-18 10:01:00</td>\n",
       "      <td>1.00</td>\n",
       "    </tr>\n",
       "    <tr>\n",
       "      <th>1</th>\n",
       "      <td>12347.0</td>\n",
       "      <td>7</td>\n",
       "      <td>4310.00</td>\n",
       "      <td>182</td>\n",
       "      <td>2011-12-07 15:52:00</td>\n",
       "      <td>2010-12-07 14:57:00</td>\n",
       "      <td>26.00</td>\n",
       "    </tr>\n",
       "    <tr>\n",
       "      <th>2</th>\n",
       "      <td>12348.0</td>\n",
       "      <td>4</td>\n",
       "      <td>1437.24</td>\n",
       "      <td>27</td>\n",
       "      <td>2011-09-25 13:13:00</td>\n",
       "      <td>2010-12-16 19:09:00</td>\n",
       "      <td>6.75</td>\n",
       "    </tr>\n",
       "    <tr>\n",
       "      <th>3</th>\n",
       "      <td>12349.0</td>\n",
       "      <td>1</td>\n",
       "      <td>1457.55</td>\n",
       "      <td>72</td>\n",
       "      <td>2011-11-21 09:51:00</td>\n",
       "      <td>2011-11-21 09:51:00</td>\n",
       "      <td>72.00</td>\n",
       "    </tr>\n",
       "    <tr>\n",
       "      <th>4</th>\n",
       "      <td>12350.0</td>\n",
       "      <td>1</td>\n",
       "      <td>294.40</td>\n",
       "      <td>16</td>\n",
       "      <td>2011-02-02 16:01:00</td>\n",
       "      <td>2011-02-02 16:01:00</td>\n",
       "      <td>16.00</td>\n",
       "    </tr>\n",
       "  </tbody>\n",
       "</table>\n",
       "</div>"
      ],
      "text/plain": [
       "   CustomerID  no_bills  sum_bill  no_item             Recency  \\\n",
       "0     12346.0         1  77183.60        1 2011-01-18 10:01:00   \n",
       "1     12347.0         7   4310.00      182 2011-12-07 15:52:00   \n",
       "2     12348.0         4   1437.24       27 2011-09-25 13:13:00   \n",
       "3     12349.0         1   1457.55       72 2011-11-21 09:51:00   \n",
       "4     12350.0         1    294.40       16 2011-02-02 16:01:00   \n",
       "\n",
       "          Recency_min  no_item_per_bill  \n",
       "0 2011-01-18 10:01:00              1.00  \n",
       "1 2010-12-07 14:57:00             26.00  \n",
       "2 2010-12-16 19:09:00              6.75  \n",
       "3 2011-11-21 09:51:00             72.00  \n",
       "4 2011-02-02 16:01:00             16.00  "
      ]
     },
     "execution_count": 63,
     "metadata": {},
     "output_type": "execute_result"
    }
   ],
   "source": [
    "data_c = data_g[data_g['no_bills']<=21]\n",
    "data_c.head()"
   ]
  },
  {
   "attachments": {},
   "cell_type": "markdown",
   "metadata": {},
   "source": [
    "### Normalization of data using log"
   ]
  },
  {
   "cell_type": "code",
   "execution_count": 71,
   "metadata": {},
   "outputs": [
    {
     "name": "stderr",
     "output_type": "stream",
     "text": [
      "C:\\Users\\Nauman_\\AppData\\Local\\Temp\\ipykernel_19400\\3579040085.py:2: SettingWithCopyWarning: \n",
      "A value is trying to be set on a copy of a slice from a DataFrame.\n",
      "Try using .loc[row_indexer,col_indexer] = value instead\n",
      "\n",
      "See the caveats in the documentation: https://pandas.pydata.org/pandas-docs/stable/user_guide/indexing.html#returning-a-view-versus-a-copy\n",
      "  data_c['summ_bill_log'] = data_c.sum_bill.apply(lambda x: math.log(x))\n",
      "C:\\Users\\Nauman_\\AppData\\Local\\Temp\\ipykernel_19400\\3579040085.py:3: SettingWithCopyWarning: \n",
      "A value is trying to be set on a copy of a slice from a DataFrame.\n",
      "Try using .loc[row_indexer,col_indexer] = value instead\n",
      "\n",
      "See the caveats in the documentation: https://pandas.pydata.org/pandas-docs/stable/user_guide/indexing.html#returning-a-view-versus-a-copy\n",
      "  data_c['Average_bill_log'] = data_c.Average_bill.apply(lambda x: math.log(x))\n"
     ]
    }
   ],
   "source": [
    "import math\n",
    "data_c['summ_bill_log'] = data_c.sum_bill.apply(lambda x: math.log(x))\n",
    "data_c['Average_bill_log'] = data_c.Average_bill.apply(lambda x: math.log(x))"
   ]
  },
  {
   "cell_type": "code",
   "execution_count": 70,
   "metadata": {},
   "outputs": [
    {
     "name": "stderr",
     "output_type": "stream",
     "text": [
      "C:\\Users\\Nauman_\\AppData\\Local\\Temp\\ipykernel_19400\\12442651.py:1: SettingWithCopyWarning: \n",
      "A value is trying to be set on a copy of a slice from a DataFrame.\n",
      "Try using .loc[row_indexer,col_indexer] = value instead\n",
      "\n",
      "See the caveats in the documentation: https://pandas.pydata.org/pandas-docs/stable/user_guide/indexing.html#returning-a-view-versus-a-copy\n",
      "  data_c['Average_bill'] = data_c.sum_bill/data_c.no_bills\n"
     ]
    }
   ],
   "source": [
    "data_c['Average_bill'] = data_c.sum_bill/data_c.no_bills"
   ]
  },
  {
   "attachments": {},
   "cell_type": "markdown",
   "metadata": {},
   "source": [
    "#### Identifying Recencency"
   ]
  },
  {
   "cell_type": "code",
   "execution_count": 74,
   "metadata": {},
   "outputs": [
    {
     "name": "stderr",
     "output_type": "stream",
     "text": [
      "C:\\Users\\Nauman_\\AppData\\Local\\Temp\\ipykernel_19400\\3219809033.py:1: SettingWithCopyWarning: \n",
      "A value is trying to be set on a copy of a slice from a DataFrame.\n",
      "Try using .loc[row_indexer,col_indexer] = value instead\n",
      "\n",
      "See the caveats in the documentation: https://pandas.pydata.org/pandas-docs/stable/user_guide/indexing.html#returning-a-view-versus-a-copy\n",
      "  data_c.loc[data_c.Recency.dt.year <2011,'Recency_int'] = 0\n"
     ]
    }
   ],
   "source": [
    "data_c.loc[data_c.Recency.dt.year <2011,'Recency_int'] = 0\n",
    "data_c.loc[data_c.Recency.dt.year >=2011,'Recency_int'] = data_c.Recency.dt.month"
   ]
  },
  {
   "cell_type": "code",
   "execution_count": 75,
   "metadata": {},
   "outputs": [
    {
     "name": "stderr",
     "output_type": "stream",
     "text": [
      "C:\\Users\\Nauman_\\AppData\\Local\\Temp\\ipykernel_19400\\545425094.py:1: SettingWithCopyWarning: \n",
      "A value is trying to be set on a copy of a slice from a DataFrame.\n",
      "Try using .loc[row_indexer,col_indexer] = value instead\n",
      "\n",
      "See the caveats in the documentation: https://pandas.pydata.org/pandas-docs/stable/user_guide/indexing.html#returning-a-view-versus-a-copy\n",
      "  data_c['month_interval'] = (data_c['Recency'] - data_c['Recency_min']).dt.days/30\n"
     ]
    }
   ],
   "source": [
    "# identifying the duration of customer \n",
    "data_c['month_interval'] = (data_c['Recency'] - data_c['Recency_min']).dt.days/30"
   ]
  },
  {
   "cell_type": "code",
   "execution_count": 79,
   "metadata": {},
   "outputs": [
    {
     "name": "stderr",
     "output_type": "stream",
     "text": [
      "C:\\Users\\Nauman_\\AppData\\Local\\Temp\\ipykernel_19400\\3384179801.py:1: SettingWithCopyWarning: \n",
      "A value is trying to be set on a copy of a slice from a DataFrame.\n",
      "Try using .loc[row_indexer,col_indexer] = value instead\n",
      "\n",
      "See the caveats in the documentation: https://pandas.pydata.org/pandas-docs/stable/user_guide/indexing.html#returning-a-view-versus-a-copy\n",
      "  data_c['no_of_visit_per_month'] = data_c['month_interval']/data_c.no_bills\n"
     ]
    }
   ],
   "source": [
    "data_c['no_of_visit_per_month'] = data_c['month_interval']/data_c.no_bills"
   ]
  },
  {
   "cell_type": "code",
   "execution_count": 84,
   "metadata": {},
   "outputs": [],
   "source": [
    "data_country = data[['CustomerID','Country']].drop_duplicates()"
   ]
  },
  {
   "cell_type": "code",
   "execution_count": 92,
   "metadata": {},
   "outputs": [],
   "source": [
    "# adding data Country Column on Each Customer\n",
    "data_final = data_c.merge(data_country, on =['CustomerID'])"
   ]
  },
  {
   "cell_type": "code",
   "execution_count": 90,
   "metadata": {},
   "outputs": [],
   "source": [
    "data_final.to_csv('final.csv')"
   ]
  },
  {
   "cell_type": "code",
   "execution_count": null,
   "metadata": {},
   "outputs": [],
   "source": []
  }
 ],
 "metadata": {
  "kernelspec": {
   "display_name": "Python 3",
   "language": "python",
   "name": "python3"
  },
  "language_info": {
   "codemirror_mode": {
    "name": "ipython",
    "version": 3
   },
   "file_extension": ".py",
   "mimetype": "text/x-python",
   "name": "python",
   "nbconvert_exporter": "python",
   "pygments_lexer": "ipython3",
   "version": "3.10.7"
  },
  "orig_nbformat": 4,
  "vscode": {
   "interpreter": {
    "hash": "49426d5d62dfe91f8efc5ae2de07ebd8fb75d39aa2b50ab3ce157be6eca5118f"
   }
  }
 },
 "nbformat": 4,
 "nbformat_minor": 2
}
